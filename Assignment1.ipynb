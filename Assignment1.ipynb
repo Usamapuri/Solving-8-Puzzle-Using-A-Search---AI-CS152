{
 "cells": [
  {
   "cell_type": "markdown",
   "metadata": {},
   "source": [
    "<h1>CS152 Assignment 1: The 8-puzzle</h1>\n",
    "\n",
    "Before you turn in this assignment, make sure everything runs as expected. First, **restart the kernel** (in the menubar, select Kernel$\\rightarrow$Restart) and then run the test cells for each of the questions you have answered.  Note that a grade of 3 for the A* implementation requires all tests in the \"Basic Functionality\" section to be passed.  The test cells pass if they execute with no errors (i.e. all the assertions are passed).\n",
    "\n",
    "Make sure you fill in any place that says `YOUR CODE HERE`.  Be sure to remove the `raise NotImplementedError()` statements as you implement your code - these are simply there as a reminder if you forget to add code where it's needed."
   ]
  },
  {
   "cell_type": "markdown",
   "metadata": {},
   "source": [
    "---"
   ]
  },
  {
   "cell_type": "markdown",
   "metadata": {
    "deletable": false,
    "editable": false,
    "nbgrader": {
     "cell_type": "markdown",
     "checksum": "3582513581b2e5d1806ee2b1117ac019",
     "grade": false,
     "grade_id": "5bb4ce",
     "locked": true,
     "schema_version": 3,
     "solution": false
    }
   },
   "source": [
    "<h1>\n",
    "Question 1    \n",
    "</h1>\n",
    "Define your <code>PuzzleNode</code> class below.  Ensure that you include all attributes that you need to implement an A* search.  If you wish, you can even include member functions, such as a function to generate successor states.  Alternatively, you can code up this functionality later in the <code>solvePuzzle</code> function."
   ]
  },
  {
   "cell_type": "code",
   "execution_count": 3,
   "metadata": {
    "deletable": false,
    "nbgrader": {
     "cell_type": "code",
     "checksum": "4326143183f9b58edcedbc64aed31100",
     "grade": false,
     "grade_id": "b5da05",
     "locked": false,
     "schema_version": 3,
     "solution": true,
     "task": false
    }
   },
   "outputs": [],
   "source": [
    "import numpy as np\n",
    "class PuzzleNode():\n",
    "    \"\"\"\n",
    "    Class PuzzleNode: Provides a structure for performing A* search\n",
    "    for the n^2-1 puzzle.\n",
    "    \n",
    "    Attribute note: \n",
    "        Takes the state as any input shape. This is later converted\n",
    "        to valid input (array) in the solvePuzzle function. \n",
    "    \"\"\"\n",
    "    def __init__(self, state, gval = 0, fval = 0, parent = None):\n",
    "\n",
    "        self.gval = gval    # current path cost\n",
    "        self.fval = fval    # path cost + estimated heuristic cost\n",
    "        self.parent = parent  # parent for retrieving final solution\n",
    "        self.state = state   # state of the puzzle in the form of array\n",
    "        \n",
    "        self.length = len(state)\n",
    "        self.pruned = False   # tells if node can be ignored during search\n",
    "\n",
    "    def __str__(self):\n",
    "        \"\"\"Returns a n-by-n board with allignment.\"\"\"\n",
    "        return('\\n'.join(' '.join('{:{w}d}'.format(i, w=len(str(self.length**2-1)))\n",
    "                                  for i in row) for row in self.state))        \n",
    " \n",
    "    def __lt__(self, other):\n",
    "        \"\"\"Comparing states in the search tree.\"\"\"\n",
    "        return self.fval < other.fval"
   ]
  },
  {
   "cell_type": "code",
   "execution_count": 4,
   "metadata": {},
   "outputs": [
    {
     "name": "stdout",
     "output_type": "stream",
     "text": [
      "0 1 2\n",
      "3 4 5\n",
      "6 7 8\n"
     ]
    }
   ],
   "source": [
    "test_array = np.array([[0,1,2], [3,4,5], [6,7,8]])\n",
    "node = PuzzleNode(test_array)\n",
    "print(node)"
   ]
  },
  {
   "cell_type": "markdown",
   "metadata": {
    "deletable": false,
    "editable": false,
    "nbgrader": {
     "cell_type": "markdown",
     "checksum": "f523db3048f85be39ef3dc740b53fdba",
     "grade": false,
     "grade_id": "859d2c",
     "locked": true,
     "schema_version": 3,
     "solution": false
    }
   },
   "source": [
    "<h1>\n",
    "Question 2    \n",
    "</h1>\n",
    "Define your heuristic functions using the templates below.  Ensure that you extend the <code>heuristics</code> list to include all the heuristic functions you implement.  Note that state will be given as a list of lists, so ensure your function accepts this format.  You may use packages like numpy if you wish within the functions themselves."
   ]
  },
  {
   "cell_type": "code",
   "execution_count": 5,
   "metadata": {
    "deletable": false,
    "nbgrader": {
     "cell_type": "code",
     "checksum": "686c6cabd6955171ad70aa6fd37d31a9",
     "grade": false,
     "grade_id": "3fb850",
     "locked": false,
     "schema_version": 3,
     "solution": true,
     "task": false
    }
   },
   "outputs": [],
   "source": [
    "#Concept adapted from https://www.youtube.com/watch?v=6TsL96NAZCo&ab_channel=JohnLevine\n",
    "\n",
    "# Misplaced tiles heuristic\n",
    "def h1(state):\n",
    "    \"\"\"\n",
    "    This function returns the number of misplaced tiles, given the board state\n",
    "    Input:\n",
    "        -state: the board state as a list of lists\n",
    "    Output:\n",
    "        -h: the number of misplaced tiles\n",
    "    \"\"\"\n",
    "    h = 0\n",
    "    counter = 0\n",
    "    \n",
    "    for i in range(len(state)): \n",
    "        for j in range(len(state[0])): \n",
    "            if counter != 0 and state[i][j] != counter: \n",
    "                h += 1\n",
    "            counter += 1 \n",
    "    return h \n",
    "\n",
    "# Manhattan distance heuristic\n",
    "def h2(state):\n",
    "    \"\"\"\n",
    "    This function returns the Manhattan distance from the solved state, given \n",
    "    the board state\n",
    "    Input:\n",
    "        -state: the board state as a list of lists\n",
    "    Output:\n",
    "        -h: the Manhattan distance from the solved configuration\n",
    "    Method: \n",
    "      First, a completed state is generated. Then, for each tile in the current\n",
    "      state, the distance in x and y values from the goal state is calculated and \n",
    "      summed, giving the total Manhattan distance. \n",
    "    \"\"\"\n",
    "    n_tiles = (len(state) ** 2)\n",
    "    n = len(state)\n",
    "    \n",
    "    state = np.array(state).reshape(n, n)\n",
    "        \n",
    "    cur_state = list(state.flatten())  \n",
    "    goal_state = list(range(n**2))\n",
    "        \n",
    "    manhattan_dist = [abs(b % n - g % n) + abs(b//n - g//n) for\n",
    "                      b, g in ((cur_state.index(i), goal_state.index(i)) for\n",
    "                      i in range(1, n_tiles))]\n",
    "        \n",
    "    return sum(manhattan_dist)\n",
    "\n",
    "#Euclidean Distance Heuristic\n",
    "def h3(state): \n",
    "    \"\"\"\n",
    "    This function returns the euclidean distance from the solved state, given the board state\n",
    "    Input:\n",
    "        -state: the board state as a list of lists\n",
    "    Output:\n",
    "        -h: the euclidean distance from the solved configuration\n",
    "    Method: \n",
    "      A Similar method is followed to the manhattan distance, but instead of \n",
    "      summing the horizontal and vertical distances, the diagonal distance \n",
    "      is found using the pythagoran theorem. \n",
    "    \"\"\"\n",
    "    counter = 0\n",
    "    x_axis, y_axis = len(state), len(state[0])\n",
    "    euclidean_dist = 0 \n",
    "    \n",
    "    #Create a termination state \n",
    "    termination_state = [[0]*y_axis for row in range(x_axis)]\n",
    "    for i in range(len(state)): \n",
    "        for j in range(len(state[0])):\n",
    "            termination_state[i][j] = counter\n",
    "            counter += 1 \n",
    "        \n",
    "    for i in range(len(state)): \n",
    "        for j in range(len(state[0])): \n",
    "            value = state[i][j]\n",
    "            if value != 0: \n",
    "                subarray =  [x for x in termination_state if value in x][0]\n",
    "                value_x_axis, value_y_axis = termination_state.index(subarray), subarray.index(value)\n",
    "                add_values = ((abs(value_x_axis - i))**2 + (abs(value_y_axis - j))**2)**0.5\n",
    "                euclidean_dist += add_values\n",
    "        \n",
    "    return euclidean_dist\n",
    "    \n",
    "\n",
    "heuristics = [h1, h2, h3]"
   ]
  },
  {
   "cell_type": "markdown",
   "metadata": {},
   "source": [
    "##### Explanation\n",
    "In the above code I have created three different heuristics to estimate the distance from the root node to the goal node. These heuristics are Manhattan Distance, Euclidean distance and Misplaced tiles. After the thorough examination and testing these heuristics, I concluded that neither of the other two heuristics were able to outperform Manhattan distances, despite getting the same distances. "
   ]
  },
  {
   "cell_type": "markdown",
   "metadata": {
    "deletable": false,
    "editable": false,
    "nbgrader": {
     "cell_type": "markdown",
     "checksum": "591174c27300d0a4d4d96ee841e46810",
     "grade": false,
     "grade_id": "e224d9",
     "locked": true,
     "schema_version": 3,
     "solution": false
    }
   },
   "source": [
    "<h1>\n",
    "Question 3    \n",
    "</h1>\n",
    "Code up your A* search using the SolvePuzzle function within the template below.  Please do not modify the function header, otherwise the automated testing will fail.  You may define other functions or import packages as needed in this cell or by adding additional cells."
   ]
  },
  {
   "cell_type": "markdown",
   "metadata": {},
   "source": [
    "The solvability test function below tests if a given input array is solvable based on the number of inversions on the board and the board size.\n",
    "\n",
    "- If the grid width is odd, then the number of inversions in a solvable situation is even.\n",
    "- If the grid width is even, and the blank is on an even row counting from the bottom (second-last, fourth-last etc), then the number of inversions in a solvable situation is odd.\n",
    "- If the grid width is even, and the blank is on an odd row counting from the bottom (last, third-last, fifth-last etc) then the number of inversions in a solvable situation is even."
   ]
  },
  {
   "cell_type": "code",
   "execution_count": 6,
   "metadata": {},
   "outputs": [],
   "source": [
    "#Concept adapted from: https://datawookie.netlify.com/blog/2019/04/sliding-puzzle-solvable/\n",
    "# Extension rules from: https://www.cs.bham.ac.uk/~mdr/teaching/modules04/java2/TilesSolvability.html\n",
    "\n",
    "def solvability_test(state):\n",
    "    \"\"\"\n",
    "    Input:\n",
    "        state (arr) Input state array as a list of lists.\n",
    "    Output:\n",
    "        Boolean Value\n",
    "    \"\"\"\n",
    "    count = 0\n",
    "    n = len(state)\n",
    "    n_tiles = (len(state) ** 2)\n",
    "    \n",
    "    #reshaping the input to be of a valid format\n",
    "    state = np.array(state).reshape(n, n) \n",
    "    \n",
    "    loc_zero_tile = tuple(*np.argwhere(state == 0))\n",
    "    array_tiles = list(state.flatten())  \n",
    "\n",
    "    for i in range(n_tiles - 1):\n",
    "        for j in range(i+1, n_tiles):\n",
    "            if array_tiles[j] and array_tiles[i] and array_tiles[i] > array_tiles[j]:\n",
    "#                 print(array_tiles[i], \"is larger than\", array_tiles[j])\n",
    "                count += 1\n",
    "                \n",
    "    # Different scenarios for solvability.\n",
    "    if (n % 2 != 0) and (count % 2 == 0):\n",
    "        return(True)\n",
    "    elif (n % 2 == 0) and (loc_zero_tile[0] % 2 != 0) and (count % 2 != 0):\n",
    "        return(True)\n",
    "    elif (n % 2 == 0) and (loc_zero_tile[0] % 2 == 0) and (count % 2 == 0):\n",
    "        return(True)\n",
    "    else:\n",
    "        return(False)"
   ]
  },
  {
   "cell_type": "code",
   "execution_count": 7,
   "metadata": {
    "deletable": false,
    "nbgrader": {
     "cell_type": "code",
     "checksum": "91dda09c4f5df1db4607bb3b82e81afd",
     "grade": false,
     "grade_id": "328d7b",
     "locked": false,
     "schema_version": 3,
     "solution": true
    }
   },
   "outputs": [],
   "source": [
    "# Main solvePuzzle function.\n",
    "from queue import PriorityQueue\n",
    "\n",
    "\n",
    "def solvePuzzle(state, heuristic = None):\n",
    "    \"\"\"\n",
    "    This function should solve the n**2-1 puzzle for any n > 2\n",
    "    (although it may take too long for n > 4)).\n",
    "    \n",
    "    Inputs:\n",
    "        state: The initial state of the puzzle as a list of lists.\n",
    "        heuristic: A handle to a heuristic function.\n",
    "        [h1, h2, h3] (misplaced tiles, manhattan distance, Eucleadean Distance)\n",
    "        \n",
    "    Outputs:\n",
    "        steps: The number of steps to optimally solve the puzzle, \n",
    "                excluding the initial state.\n",
    "        expanded: The number of nodes expanded to reach the solution.\n",
    "        max_frontier: The maximum size of the frontier over the search.\n",
    "        optimal path: The optimal path as a list of list of lists.\n",
    "                optimal_path[:,:,i] gives a list of lists that represents\n",
    "                the state of the board at step i of the solution.\n",
    "        err: An error code.  If state is not of the appropriate size\n",
    "                and dimension, return -1. If the state is not solvable,\n",
    "                returns -2.\n",
    "    \"\"\"\n",
    "#_______________________________________________INPUT TESTS______________________________________#\n",
    "    \n",
    "    n = len(state)\n",
    "    flattened_goal = list(range(n**2))\n",
    "\n",
    "    if not solvability_test(state):\n",
    "        print(\"This puzzle is not solveable.\")\n",
    "        return(0, 0, 0, None, -2)\n",
    "    \n",
    "    try:\n",
    "        state = np.array(state).reshape(n, n)\n",
    "        # state is now a n*n array, no longer a list of lists!\n",
    "    except:\n",
    "        print(\"The input could not be shaped correctly.\")\n",
    "        return(0, 0, 0, None, -1) ##If the state is not of n*n dimensions, return err = -1\n",
    "    \n",
    "    flattened_state = state.flatten()\n",
    "    if sorted(flattened_state) != flattened_goal:\n",
    "        print(\"Input invalid. Check your state for duplicates.\")\n",
    "        return(0, 0, 0, None, -1)\n",
    "    \n",
    "#____________________________________________SEARCH ALGORITHM_______________________________________#    \n",
    "\n",
    "    initial_node = PuzzleNode(state, gval = 0, fval = heuristic(state))\n",
    "    costs = {tuple(initial_node.state.flatten()): initial_node}\n",
    "\n",
    "    # Frontier, stored as a Priority Queue to maintain ordering\n",
    "    frontier = PriorityQueue()\n",
    "    frontier.put(initial_node)\n",
    "\n",
    "    Orthogonal_moves = [(1,0),(0,1),(-1,0),(0,-1)]\n",
    "    expansion_count = 0\n",
    "    max_frontier = 0\n",
    "\n",
    "    while not frontier.empty():\n",
    "        \n",
    "        # retrieving worst case frontier size\n",
    "        if frontier.qsize() > max_frontier:\n",
    "            max_frontier = frontier.qsize()\n",
    "\n",
    "        current_node = frontier.get()\n",
    "        \n",
    "        if current_node.pruned:\n",
    "            continue\n",
    "\n",
    "        # Goal check\n",
    "        if list(current_node.state.flatten()) == flattened_goal:\n",
    "            print(\"Algorithm reached the goal state in\",expansion_count,\n",
    "                  \"steps. Max Frontier size\", max_frontier )\n",
    "            break\n",
    "        \n",
    "        # finding Zero tile\n",
    "        zero_tile = tuple(*np.argwhere(current_node.state == 0))\n",
    "\n",
    "        # expand in the orthogonal direction to generate sucessor states\n",
    "        # avoiding states that would go outside the edges        \n",
    "        next_moves = [tuple( [sum(i) for i in zip(zero_tile, move)] )\n",
    "                      for move in Orthogonal_moves] \n",
    "        valid_moves = [i for i in next_moves if\n",
    "                       (0 <= i[0] < n and 0 <= i[1] < n)]\n",
    "        \n",
    "\n",
    "        for m in valid_moves:\n",
    "            gval = current_node.gval + 1 # minimum cost for child\n",
    "    \n",
    "            # try the move by swapping 0 and non-0 tile\n",
    "            test = np.copy(current_node.state)\n",
    "            z = zero_tile\n",
    "            test[z], test[m] = test[m], test[z]        \n",
    "\n",
    "            # If move is explored, update the path & mark for removal\n",
    "            if tuple(test.flatten()) in costs:\n",
    "                if costs[tuple(test.flatten())].gval > gval:\n",
    "                    costs[tuple(test.flatten())].pruned = True\n",
    "                else:\n",
    "                    continue \n",
    "            \n",
    "            # get heuristic cost from the node to the end and\n",
    "            # add the child to the frontier & cost database\n",
    "            hcost = heuristic(test)\n",
    "            next_node = PuzzleNode(test, gval = gval,\n",
    "                                   fval = (gval + hcost),  parent=current_node)\n",
    "            \n",
    "            frontier.put(next_node)\n",
    "            costs[tuple(test.flatten())] = next_node \n",
    "            \n",
    "        expansion_count = expansion_count + 1\n",
    "\n",
    "#_______________________________OPTIMAL PATH_______________________________________#\n",
    "\n",
    "    optimal_path_nodes = []\n",
    "    solution_node = current_node\n",
    "    \n",
    "    while solution_node:\n",
    "        optimal_path_nodes.append(solution_node)\n",
    "        solution_node = solution_node.parent\n",
    "        \n",
    "    optimal_path = []\n",
    "    \n",
    "    #reverses through the solution\n",
    "    for j, node in reversed(list(enumerate(optimal_path_nodes))):\n",
    "        slot = len(optimal_path_nodes) - 1 - j\n",
    "        optimal_path.append(node.state.tolist())\n",
    "    \n",
    "    return (len(optimal_path_nodes)-1, expansion_count,\n",
    "            max_frontier, optimal_path, 0)"
   ]
  },
  {
   "cell_type": "markdown",
   "metadata": {},
   "source": [
    "#### Explanation\n",
    "\n",
    "###### Input Tests\n",
    "The first part of the code tests for correct shape of the inputs, Given an input is incorrect, we try to reshape the state from a list of lists to an array. Next we check if the input has any duplicates in it as we know there aren't any duplicates in the 8-puzzle. Once all these tests are passed, we flatten & sort the input & compare it to the goal state (for the initial test). If either of the tests fail, the input is marked as incorrect.\n",
    "        \n",
    "##### Search Algorithm\n",
    "The second part of the code first does a set up for the upcoming search algorithm. We first set the initial node to the start state, then initiate the cost dictionary for tracking search cost which enables the algorithm as a whole to have a O(n) runtime, and a O(1) lookup time for each instance of checking if a child node has been previously initialized and stored in costs. Then we generate the frontier and count the maximum fronties size after every step. After this initial setup is done, the code then generates possible future moves and appends them to the frontier until a solution is found while the cost dictionary keeps track of previously explored states.\n",
    "    \n",
    "##### Optimal Path \n",
    "The last part of the code reconstructs the path of the optimal solution and returns summary statistics of the algorithm to evaluate performance."
   ]
  },
  {
   "cell_type": "markdown",
   "metadata": {
    "deletable": false,
    "editable": false,
    "nbgrader": {
     "cell_type": "markdown",
     "checksum": "93712bce8426499023ace13735ea998d",
     "grade": false,
     "grade_id": "cell-3fc6e687e03655a1",
     "locked": true,
     "schema_version": 3,
     "solution": false,
     "task": false
    }
   },
   "source": [
    "<h1>Extension Questions</h1>\n",
    "\n",
    "The extensions can be implemented by modifying the code from Q2-3 above appropriately.\n",
    "\n",
    "1. <b>Initial state solvability:</b>  Modify your SolvePuzzle function code in Q3 to return -2 if an initial state is not solvable to the goal state.\n",
    "2. <b>Extra heuristic function:</b> Add another heuristic function (e.g. pattern database) that dominates the misplaced tiles and Manhattan distance heuristics to your Q2 code.\n",
    "3. <b>Memoization:</b>  Modify your heuristic function definitions in Q2 by using a Python decorator to speed up heuristic function evaluation\n",
    "\n",
    "There are test cells provided for extension questions 1 and 2."
   ]
  },
  {
   "cell_type": "markdown",
   "metadata": {
    "deletable": false,
    "editable": false,
    "nbgrader": {
     "cell_type": "markdown",
     "checksum": "c89ea5c4d80cc73d321b4d15a043e8b7",
     "grade": false,
     "grade_id": "fb9ccd",
     "locked": true,
     "schema_version": 3,
     "solution": false
    }
   },
   "source": [
    "<h1>Basic Functionality Tests</h1>\n",
    "The cells below contain tests to verify that your code is working properly to be classified as basically functional.  Please note that a grade of <b>3</b> on #aicoding and #search as applicable for each test requires the test to be successfully passed.  <b>If you want to demonstrate some other aspect of your code, then feel free to add additional cells with test code and document what they do.<b>"
   ]
  },
  {
   "cell_type": "code",
   "execution_count": 8,
   "metadata": {
    "deletable": false,
    "editable": false,
    "nbgrader": {
     "cell_type": "code",
     "checksum": "f8d927b41dc95f7b76d81ed7f6cd13ec",
     "grade": true,
     "grade_id": "8fbc24",
     "locked": true,
     "points": 1,
     "schema_version": 3,
     "solution": false
    }
   },
   "outputs": [
    {
     "name": "stdout",
     "output_type": "stream",
     "text": [
      "Input invalid. Check your state for duplicates.\n"
     ]
    }
   ],
   "source": [
    "## Test for state not correctly defined\n",
    "\n",
    "incorrect_state = [[0,1,2],[2,3,4],[5,6,7]]\n",
    "_,_,_,_,err = solvePuzzle(incorrect_state, lambda state: 0)\n",
    "assert(err == -1)"
   ]
  },
  {
   "cell_type": "code",
   "execution_count": 9,
   "metadata": {
    "deletable": false,
    "editable": false,
    "nbgrader": {
     "cell_type": "code",
     "checksum": "005a7a99916dafeb7180172c66365597",
     "grade": true,
     "grade_id": "cell-5738a2124877e52e",
     "locked": true,
     "points": 2,
     "schema_version": 3,
     "solution": false,
     "task": false
    }
   },
   "outputs": [],
   "source": [
    "## Heuristic function tests for misplaced tiles and manhattan distance\n",
    "\n",
    "# Define the working initial states\n",
    "working_initial_states_8_puzzle = ([[2,3,7],[1,8,0],[6,5,4]], [[7,0,8],[4,6,1],[5,3,2]], [[5,7,6],[2,4,3],[8,1,0]])\n",
    "\n",
    "# Test the values returned by the heuristic functions\n",
    "h_mt_vals = [7,8,7]\n",
    "h_man_vals = [15,17,18]\n",
    "\n",
    "for i in range(0,3):\n",
    "    h_mt = heuristics[0](working_initial_states_8_puzzle[i])\n",
    "    h_man = heuristics[1](working_initial_states_8_puzzle[i])\n",
    "    assert(h_mt == h_mt_vals[i])\n",
    "    assert(h_man == h_man_vals[i])\n"
   ]
  },
  {
   "cell_type": "code",
   "execution_count": 10,
   "metadata": {
    "deletable": false,
    "editable": false,
    "nbgrader": {
     "cell_type": "code",
     "checksum": "293094319e63d67c5f6d94cd7aee0c02",
     "grade": true,
     "grade_id": "cell-99c07d9541559b52",
     "locked": true,
     "points": 4,
     "schema_version": 3,
     "solution": false,
     "task": false
    }
   },
   "outputs": [
    {
     "name": "stdout",
     "output_type": "stream",
     "text": [
      "Algorithm reached the goal state in 684 steps. Max Frontier size 430\n",
      "Algorithm reached the goal state in 121 steps. Max Frontier size 68\n",
      "Algorithm reached the goal state in 27257 steps. Max Frontier size 12623\n",
      "Algorithm reached the goal state in 1740 steps. Max Frontier size 981\n",
      "Algorithm reached the goal state in 53225 steps. Max Frontier size 20172\n",
      "Algorithm reached the goal state in 1648 steps. Max Frontier size 940\n"
     ]
    }
   ],
   "source": [
    "## A* Tests for 3 x 3 boards\n",
    "## This test runs A* with both heuristics and ensures that the same optimal number of steps are found\n",
    "## with each heuristic.\n",
    "\n",
    "# Optimal path to the solution for the first 3 x 3 state\n",
    "opt_path_soln = [[[2, 3, 7], [1, 8, 0], [6, 5, 4]], [[2, 3, 7], [1, 8, 4], [6, 5, 0]], \n",
    "                 [[2, 3, 7], [1, 8, 4], [6, 0, 5]], [[2, 3, 7], [1, 0, 4], [6, 8, 5]], \n",
    "                 [[2, 0, 7], [1, 3, 4], [6, 8, 5]], [[0, 2, 7], [1, 3, 4], [6, 8, 5]], \n",
    "                 [[1, 2, 7], [0, 3, 4], [6, 8, 5]], [[1, 2, 7], [3, 0, 4], [6, 8, 5]], \n",
    "                 [[1, 2, 7], [3, 4, 0], [6, 8, 5]], [[1, 2, 0], [3, 4, 7], [6, 8, 5]], \n",
    "                 [[1, 0, 2], [3, 4, 7], [6, 8, 5]], [[1, 4, 2], [3, 0, 7], [6, 8, 5]], \n",
    "                 [[1, 4, 2], [3, 7, 0], [6, 8, 5]], [[1, 4, 2], [3, 7, 5], [6, 8, 0]], \n",
    "                 [[1, 4, 2], [3, 7, 5], [6, 0, 8]], [[1, 4, 2], [3, 0, 5], [6, 7, 8]], \n",
    "                 [[1, 0, 2], [3, 4, 5], [6, 7, 8]], [[0, 1, 2], [3, 4, 5], [6, 7, 8]]]\n",
    "\n",
    "astar_steps = [17, 25, 28]\n",
    "for i in range(0,3):\n",
    "    steps_mt, expansions_mt, _, opt_path_mt, _ = solvePuzzle(working_initial_states_8_puzzle[i], heuristics[0])\n",
    "    steps_man, expansions_man, _, opt_path_man, _ = solvePuzzle(working_initial_states_8_puzzle[i], heuristics[1])\n",
    "    # Test whether the number of optimal steps is correct and the same\n",
    "    assert(steps_mt == steps_man == astar_steps[i])\n",
    "    # Test whether or not the manhattan distance dominates the misplaced tiles heuristic in every case\n",
    "    assert(expansions_man < expansions_mt)\n",
    "    # For the first state, test that the optimal path is the same\n",
    "    if i == 0:\n",
    "        assert(opt_path_mt == opt_path_soln)\n"
   ]
  },
  {
   "cell_type": "code",
   "execution_count": 11,
   "metadata": {
    "deletable": false,
    "editable": false,
    "nbgrader": {
     "cell_type": "code",
     "checksum": "94ad7f950f87fcc281af1f3946c4e196",
     "grade": true,
     "grade_id": "cell-2981ba2cc7745c22",
     "locked": true,
     "points": 8,
     "schema_version": 3,
     "solution": false,
     "task": false
    }
   },
   "outputs": [
    {
     "name": "stdout",
     "output_type": "stream",
     "text": [
      "Algorithm reached the goal state in 9 steps. Max Frontier size 13\n",
      "Algorithm reached the goal state in 9 steps. Max Frontier size 13\n"
     ]
    }
   ],
   "source": [
    "## A* Test for 4 x 4 board\n",
    "## This test runs A* with both heuristics and ensures that the same optimal number of steps are found\n",
    "## with each heuristic.\n",
    "\n",
    "working_initial_state_15_puzzle = [[1,2,6,3],[0,9,5,7],[4,13,10,11],[8,12,14,15]]\n",
    "steps_mt, expansions_mt, _, _, _ = solvePuzzle(working_initial_state_15_puzzle, heuristics[0])\n",
    "steps_man, expansions_man, _, _, _ = solvePuzzle(working_initial_state_15_puzzle, heuristics[1])\n",
    "# Test whether the number of optimal steps is correct and the same\n",
    "assert(steps_mt == steps_man == 9)\n",
    "# Test whether or not the manhattan distance dominates the misplaced tiles heuristic in every case\n",
    "assert(expansions_mt >= expansions_man)"
   ]
  },
  {
   "cell_type": "markdown",
   "metadata": {
    "deletable": false,
    "editable": false,
    "nbgrader": {
     "cell_type": "markdown",
     "checksum": "7251e4aad7b1e19b42a78e54d8e7b920",
     "grade": false,
     "grade_id": "cell-2c262efb90518641",
     "locked": true,
     "schema_version": 3,
     "solution": false,
     "task": false
    }
   },
   "source": [
    "<h1>Extension Tests</h1>\n",
    "The cells below can be used to test the extension questions.  Memoization if implemented will be tested on the final submission - you can test it yourself by testing the execution time of the heuristic functions with and without it."
   ]
  },
  {
   "cell_type": "code",
   "execution_count": 12,
   "metadata": {
    "deletable": false,
    "editable": false,
    "nbgrader": {
     "cell_type": "code",
     "checksum": "efc4b74c95e814a4fb07d2c5ed26f337",
     "grade": true,
     "grade_id": "cell-21cada9978e9a1bb",
     "locked": true,
     "points": 16,
     "schema_version": 3,
     "solution": false,
     "task": false
    }
   },
   "outputs": [
    {
     "name": "stdout",
     "output_type": "stream",
     "text": [
      "This puzzle is not solveable.\n"
     ]
    }
   ],
   "source": [
    "## Puzzle solvability test\n",
    "\n",
    "unsolvable_initial_state = [[7,5,6],[2,4,3],[8,1,0]]\n",
    "_,_,_,_,err = solvePuzzle(unsolvable_initial_state, lambda state: 0)\n",
    "assert(err == -2)"
   ]
  },
  {
   "cell_type": "code",
   "execution_count": 13,
   "metadata": {
    "deletable": false,
    "editable": false,
    "nbgrader": {
     "cell_type": "code",
     "checksum": "9b7ebb02bcf675ab3a5157eaa1155763",
     "grade": true,
     "grade_id": "cell-8c7a414efc152379",
     "locked": true,
     "points": 32,
     "schema_version": 3,
     "solution": false,
     "task": false
    }
   },
   "outputs": [
    {
     "name": "stdout",
     "output_type": "stream",
     "text": [
      "Algorithm reached the goal state in 159 steps. Max Frontier size 91\n",
      "Algorithm reached the goal state in 121 steps. Max Frontier size 68\n",
      "Algorithm reached the goal state in 3624 steps. Max Frontier size 1999\n",
      "Algorithm reached the goal state in 1740 steps. Max Frontier size 981\n",
      "Algorithm reached the goal state in 8732 steps. Max Frontier size 4554\n",
      "Algorithm reached the goal state in 1648 steps. Max Frontier size 940\n"
     ]
    },
    {
     "ename": "AssertionError",
     "evalue": "",
     "output_type": "error",
     "traceback": [
      "\u001b[0;31m---------------------------------------------------------------------------\u001b[0m",
      "\u001b[0;31mAssertionError\u001b[0m                            Traceback (most recent call last)",
      "\u001b[0;32m<ipython-input-13-527f5e8bbbf2>\u001b[0m in \u001b[0;36m<module>\u001b[0;34m\u001b[0m\n\u001b[1;32m     11\u001b[0m     \u001b[0;31m# the number of nodes expanded\u001b[0m\u001b[0;34m\u001b[0m\u001b[0;34m\u001b[0m\u001b[0;34m\u001b[0m\u001b[0m\n\u001b[1;32m     12\u001b[0m     \u001b[0mdom\u001b[0m \u001b[0;34m=\u001b[0m \u001b[0mexpansions_man\u001b[0m \u001b[0;34m-\u001b[0m \u001b[0mexpansions_new\u001b[0m\u001b[0;34m\u001b[0m\u001b[0;34m\u001b[0m\u001b[0m\n\u001b[0;32m---> 13\u001b[0;31m \u001b[0;32massert\u001b[0m\u001b[0;34m(\u001b[0m\u001b[0mdom\u001b[0m \u001b[0;34m>\u001b[0m \u001b[0;36m0\u001b[0m\u001b[0;34m)\u001b[0m\u001b[0;34m\u001b[0m\u001b[0;34m\u001b[0m\u001b[0m\n\u001b[0m",
      "\u001b[0;31mAssertionError\u001b[0m: "
     ]
    }
   ],
   "source": [
    "## Extra heuristic function test.  \n",
    "## This tests that for all initial conditions, the new heuristic dominates over the manhattan distance.\n",
    "\n",
    "dom = 0\n",
    "for i in range(0,3):\n",
    "    steps_new, expansions_new, _, _, _ = solvePuzzle(working_initial_states_8_puzzle[i], heuristics[2])\n",
    "    steps_man, expansions_man, _, _, _ = solvePuzzle(working_initial_states_8_puzzle[i], heuristics[1])\n",
    "    # Test whether the number of optimal steps is correct and the same\n",
    "    assert(steps_new == steps_man == astar_steps[i])\n",
    "    # Test whether or not the manhattan distance is dominated by the new heuristic in every case, by checking\n",
    "    # the number of nodes expanded\n",
    "    dom = expansions_man - expansions_new\n",
    "assert(dom > 0)"
   ]
  },
  {
   "cell_type": "code",
   "execution_count": null,
   "metadata": {
    "deletable": false,
    "editable": false,
    "nbgrader": {
     "cell_type": "code",
     "checksum": "af551e00bc8334100b7cf901ece597a2",
     "grade": true,
     "grade_id": "cell-09f710b6aa2e3fa3",
     "locked": true,
     "points": 64,
     "schema_version": 3,
     "solution": false,
     "task": false
    }
   },
   "outputs": [],
   "source": [
    "## Memoization test - will be carried out after submission"
   ]
  },
  {
   "cell_type": "markdown",
   "metadata": {},
   "source": [
    "#### References\n",
    "Anonymous. (n.d.). Cooperating Intelligent Systems - Uniformed search. Retrieved from https://www.dcc.fc.up.pt/~ines/aulas/1213/SI/AIMA_ch3_L2-complement.ppt\n",
    "\n",
    "Jason, Y. (n.d.). Linear Distance Calculator . Retrieved October 26, 2019, from https://github.com/Jason-Yuan/8PuzzleGameSovler/blob/master/heuristic_estimate.py.Stack Overflow . (2011, March 1).\n",
    "\n",
    "Rotating a two-dimensional array in Python. Retrieved October 26, 2019, from https://stackoverflow.com/questions/8421337/rotating-a-two-dimensional-array-in-python.Yar Kan, A. (2016, May 3).\n",
    "\n",
    "Implementing A-star(A*) to solve N-Puzzle. Retrieved from https://algorithmsinsight.wordpress.com/graph-theory-2/a-star-in-general/implementing-a-star-to-solve-n-puzzle/.\n",
    "\n"
   ]
  },
  {
   "cell_type": "code",
   "execution_count": null,
   "metadata": {},
   "outputs": [],
   "source": []
  }
 ],
 "metadata": {
  "kernelspec": {
   "display_name": "Python 3",
   "language": "python",
   "name": "python3"
  },
  "language_info": {
   "codemirror_mode": {
    "name": "ipython",
    "version": 3
   },
   "file_extension": ".py",
   "mimetype": "text/x-python",
   "name": "python",
   "nbconvert_exporter": "python",
   "pygments_lexer": "ipython3",
   "version": "3.8.3"
  }
 },
 "nbformat": 4,
 "nbformat_minor": 1
}
